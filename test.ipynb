{
 "cells": [
  {
   "cell_type": "code",
   "execution_count": 3,
   "metadata": {},
   "outputs": [
    {
     "name": "stdout",
     "output_type": "stream",
     "text": [
      "1\n",
      "2\n",
      "3\n",
      "1\n",
      "2\n",
      "3\n",
      "1\n",
      "2\n"
     ]
    }
   ],
   "source": [
    "mylist = [1, 2, 3]\n",
    "\n",
    "for i in mylist:\n",
    "    mylist.append(i)\n",
    "    print(i)\n",
    "    if len(mylist) > 10:\n",
    "        break"
   ]
  },
  {
   "cell_type": "code",
   "execution_count": 4,
   "metadata": {},
   "outputs": [
    {
     "ename": "IndexError",
     "evalue": "list assignment index out of range",
     "output_type": "error",
     "traceback": [
      "\u001b[1;31m---------------------------------------------------------------------------\u001b[0m",
      "\u001b[1;31mIndexError\u001b[0m                                Traceback (most recent call last)",
      "Cell \u001b[1;32mIn[4], line 38\u001b[0m\n\u001b[0;32m     35\u001b[0m                     sum_weak \u001b[38;5;241m-\u001b[39m\u001b[38;5;241m=\u001b[39m adjustment\n\u001b[0;32m     37\u001b[0m     \u001b[38;5;28;01mreturn\u001b[39;00m P\n\u001b[1;32m---> 38\u001b[0m \u001b[43mgenerateequilibrium\u001b[49m\u001b[43m(\u001b[49m\u001b[38;5;241;43m5\u001b[39;49m\u001b[43m)\u001b[49m\n",
      "Cell \u001b[1;32mIn[4], line 15\u001b[0m, in \u001b[0;36mgenerateequilibrium\u001b[1;34m(n)\u001b[0m\n\u001b[0;32m     13\u001b[0m         \u001b[38;5;28;01melse\u001b[39;00m:\n\u001b[0;32m     14\u001b[0m             P[j][i] \u001b[38;5;241m=\u001b[39m p_ij\n\u001b[1;32m---> 15\u001b[0m             \u001b[43mP\u001b[49m\u001b[43m[\u001b[49m\u001b[43mi\u001b[49m\u001b[43m]\u001b[49m\u001b[43m[\u001b[49m\u001b[43mj\u001b[49m\u001b[43m]\u001b[49m \u001b[38;5;241m=\u001b[39m \u001b[38;5;241m-\u001b[39mp_ij\n\u001b[0;32m     17\u001b[0m \u001b[38;5;66;03m# Verifica e bilanciamento\u001b[39;00m\n\u001b[0;32m     18\u001b[0m \u001b[38;5;28;01mfor\u001b[39;00m k \u001b[38;5;129;01min\u001b[39;00m \u001b[38;5;28mrange\u001b[39m(n):\n",
      "\u001b[1;31mIndexError\u001b[0m: list assignment index out of range"
     ]
    }
   ],
   "source": [
    "import random\n",
    "def generateequilibrium(n):\n",
    "    # Inizializza la matrice delle potenze\n",
    "    P = [[0] * n for n in range(n)]\n",
    "\n",
    "    # Assegna interazioni casuali\n",
    "    for i in range(n):\n",
    "        for j in range(i + 1, n):\n",
    "            p_ij = random.randint(1, 10)  # Genera una potenza casuale positiva\n",
    "            if random.choice([True, False]):\n",
    "                P[i][j] = p_ij\n",
    "                P[j][i] = -p_ij\n",
    "            else:\n",
    "                P[j][i] = p_ij\n",
    "                P[i][j] = -p_ij\n",
    "\n",
    "    # Verifica e bilanciamento\n",
    "    for k in range(n):\n",
    "        sum_strong = sum(P[k][j] for j in range(n) if P[k][j] > 0)\n",
    "        sum_weak = -sum(P[k][j] for j in range(n) if P[k][j] < 0)\n",
    "\n",
    "        while sum_strong != sum_weak:\n",
    "            for i in range(n):\n",
    "                if P[k][i] > 0 and sum_strong > sum_weak:\n",
    "                    adjustment = min(P[k][i], sum_strong - sum_weak)\n",
    "                    P[k][i] -= adjustment\n",
    "                    P[i][k] += adjustment\n",
    "                    sum_strong -= adjustment\n",
    "                    sum_weak += adjustment\n",
    "                elif P[k][i] < 0 and sum_strong < sum_weak:\n",
    "                    adjustment = min(-P[k][i], sum_weak - sum_strong)\n",
    "                    P[k][i] += adjustment\n",
    "                    P[i][k] -= adjustment\n",
    "                    sum_strong += adjustment\n",
    "                    sum_weak -= adjustment\n",
    "\n",
    "    return P\n",
    "generateequilibrium(5)"
   ]
  }
 ],
 "metadata": {
  "kernelspec": {
   "display_name": "Python 3",
   "language": "python",
   "name": "python3"
  },
  "language_info": {
   "codemirror_mode": {
    "name": "ipython",
    "version": 3
   },
   "file_extension": ".py",
   "mimetype": "text/x-python",
   "name": "python",
   "nbconvert_exporter": "python",
   "pygments_lexer": "ipython3",
   "version": "3.9.13"
  }
 },
 "nbformat": 4,
 "nbformat_minor": 2
}
